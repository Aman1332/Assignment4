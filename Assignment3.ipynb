{
 "cells": [
  {
   "cell_type": "code",
   "execution_count": 1,
   "id": "36bc621c-9b54-43f4-b083-bd57c3790a28",
   "metadata": {},
   "outputs": [],
   "source": [
    "# Q1. Explain Class and Object with respect to Object-Oriented Programming. Give a suitable example."
   ]
  },
  {
   "cell_type": "code",
   "execution_count": 41,
   "id": "20b24526-72e1-44c1-ae0a-e5eb3493fa5e",
   "metadata": {},
   "outputs": [],
   "source": [
    "# Ans\n",
    "# Classes are user-defined data types that act as the blueprint for individual objects, attributes and methods.\n",
    "# Objects are instances of a class created with specifically defined data.\n",
    "#Eg\n",
    "class pwskills:\n",
    "    def welcome_message(self):\n",
    "        print(\"welcome to pwskill\")"
   ]
  },
  {
   "cell_type": "code",
   "execution_count": 43,
   "id": "69fc7199-caaa-4ab4-b3be-51a4daa15654",
   "metadata": {},
   "outputs": [],
   "source": [
    "aman=pwskills()"
   ]
  },
  {
   "cell_type": "code",
   "execution_count": 45,
   "id": "a2850dcc-d9e7-4393-8a46-ae77af7ee227",
   "metadata": {},
   "outputs": [
    {
     "name": "stdout",
     "output_type": "stream",
     "text": [
      "welcome to pwskill\n"
     ]
    }
   ],
   "source": [
    "aman.welcome_message()"
   ]
  },
  {
   "cell_type": "code",
   "execution_count": 47,
   "id": "e015d300-e5fa-43ac-a190-78f2dfe87e1d",
   "metadata": {},
   "outputs": [],
   "source": [
    "# Q2. Name the four pillars of OOPs."
   ]
  },
  {
   "cell_type": "code",
   "execution_count": 49,
   "id": "c3ab110b-8940-4ead-907c-fe48dc964acc",
   "metadata": {},
   "outputs": [],
   "source": [
    "# Ans\n",
    "# Inheritance: A base class that passes its characteristics to one or more subclasses\n",
    "# Polymorphism: The ability to create objects with the same functionality\n",
    "# Encapsulation: Prevents the user from seeing or caring about the internal workings of an implementation\n",
    "# Abstraction: The concept of focusing on what you're trying to do, rather than a specific presentation of that concept"
   ]
  },
  {
   "cell_type": "code",
   "execution_count": 51,
   "id": "1c78e403-aec3-44a5-a50e-3299d080e6de",
   "metadata": {},
   "outputs": [],
   "source": [
    "# Q3. Explain why the __init__() function is used. Give a suitable example."
   ]
  },
  {
   "cell_type": "code",
   "execution_count": 53,
   "id": "fb9c49b0-831d-4e9c-9fce-c84bd9e7bce5",
   "metadata": {},
   "outputs": [],
   "source": [
    "# Ans\n",
    "# The __init__() function in Python is used to initialize an object's attributes when it is created from a class:\n",
    "\n",
    "# Eg\n",
    "class pwskills1:\n",
    "    \n",
    "    def __init__(self ,phone_number,email_id,student_id):\n",
    "        self.phone_number=phone_number\n",
    "        self.email_id=email_id\n",
    "        self.student_id=student_id\n",
    "        \n",
    "    def return_student_details(self):\n",
    "        return self.student_id,self.phone_number,self.email_id\n"
   ]
  },
  {
   "cell_type": "code",
   "execution_count": 55,
   "id": "e71106a2-82dd-4761-b395-752a06c6fcdf",
   "metadata": {},
   "outputs": [],
   "source": [
    "aman=pwskills1(1234233,\"aman@gmail.com\",101)"
   ]
  },
  {
   "cell_type": "code",
   "execution_count": 57,
   "id": "1a584923-1373-47c2-a079-bdb0130c9a49",
   "metadata": {},
   "outputs": [
    {
     "data": {
      "text/plain": [
       "(101, 1234233, 'aman@gmail.com')"
      ]
     },
     "execution_count": 57,
     "metadata": {},
     "output_type": "execute_result"
    }
   ],
   "source": [
    "aman.return_student_details()"
   ]
  },
  {
   "cell_type": "code",
   "execution_count": 59,
   "id": "7372b402-976f-411c-b86f-b3927e0ff7d7",
   "metadata": {},
   "outputs": [],
   "source": [
    "# Q4. Why self is used in OOPs?"
   ]
  },
  {
   "cell_type": "code",
   "execution_count": 61,
   "id": "8c8a7928-4a74-4d44-8175-4863cad59e88",
   "metadata": {},
   "outputs": [],
   "source": [
    "# Ans\n",
    "# “Self” is defined explicitly in class methods to differentiate between instance variables and class variables.\n",
    "# The explicit use of “self” also helps in maintaining the object-oriented nature of Python, making the code more \n",
    "# readable and easier to understand"
   ]
  },
  {
   "cell_type": "code",
   "execution_count": 63,
   "id": "85438e8b-6ad8-4bd7-9196-70b69cce5e7d",
   "metadata": {},
   "outputs": [],
   "source": [
    "# Q5. What is inheritance? Give an example for each type of inheritance."
   ]
  },
  {
   "cell_type": "code",
   "execution_count": 65,
   "id": "63f17946-ed08-4852-9a70-360b6f1e73e0",
   "metadata": {},
   "outputs": [],
   "source": [
    "# Ans\n",
    "Inheritance is defined as the mechanism of inheriting the properties of the base class to the child class.\n",
    "# Types of inheritance\n",
    "\n",
    "1.Single Inheritance: \n",
    "Single inheritance enables a derived class to inherit properties from a single parent class, \n",
    "thus enabling code reusability and the addition of new features to existing code.\n",
    "\n",
    "2.Multiple Inheritance: \n",
    "When a class can be derived from more than one base class this type of inheritance is called multiple inheritances.\n",
    "In multiple inheritances, all the features of the base classes are inherited into the derived class. \n",
    "\n",
    "3.Multilevel Inheritance :\n",
    "In multilevel inheritance, features of the base class and the derived class are further inherited into the new derived class. \n",
    "This is similar to a relationship representing a child and a grandfather. \n",
    "\n",
    "4.\n",
    "\n",
    "\n"
   ]
  }
 ],
 "metadata": {
  "kernelspec": {
   "display_name": "Python 3 (ipykernel)",
   "language": "python",
   "name": "python3"
  },
  "language_info": {
   "codemirror_mode": {
    "name": "ipython",
    "version": 3
   },
   "file_extension": ".py",
   "mimetype": "text/x-python",
   "name": "python",
   "nbconvert_exporter": "python",
   "pygments_lexer": "ipython3",
   "version": "3.12.4"
  }
 },
 "nbformat": 4,
 "nbformat_minor": 5
}
